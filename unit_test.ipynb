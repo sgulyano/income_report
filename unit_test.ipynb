{
 "cells": [
  {
   "cell_type": "code",
   "execution_count": 3,
   "id": "ff0f10b0-0d45-44c5-9d6e-918cc77f7f0a",
   "metadata": {},
   "outputs": [
    {
     "name": "stdout",
     "output_type": "stream",
     "text": [
      "The autoreload extension is already loaded. To reload it, use:\n",
      "  %reload_ext autoreload\n"
     ]
    }
   ],
   "source": [
    "%load_ext autoreload\n",
    "%autoreload 2\n",
    "\n",
    "from src import generate_report\n",
    "\n",
    "f = [\"C:/Users/sguly/Documents/DSI_Income_Report/TUFUND_024_Detail_20230215.xlsx\", \"C:/Users/sguly/Documents/DSI_Income_Report/TUFUND_024_Detail_20230216.xlsx\"]\n",
    "# f = [\"C:/Users/sguly/Documents/DSI_Income_Report/TUFUND_024_Detail_20230215.xlsx\"]\n",
    "o = 'def.xlsx'\n",
    "dfs = generate_report(f, o)"
   ]
  }
 ],
 "metadata": {
  "kernelspec": {
   "display_name": "Python 3 (ipykernel)",
   "language": "python",
   "name": "python3"
  },
  "language_info": {
   "codemirror_mode": {
    "name": "ipython",
    "version": 3
   },
   "file_extension": ".py",
   "mimetype": "text/x-python",
   "name": "python",
   "nbconvert_exporter": "python",
   "pygments_lexer": "ipython3",
   "version": "3.9.12"
  }
 },
 "nbformat": 4,
 "nbformat_minor": 5
}
